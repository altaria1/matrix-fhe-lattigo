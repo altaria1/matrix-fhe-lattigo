{
 "cells": [
  {
   "cell_type": "markdown",
   "id": "023a4a37-bd5c-4c2a-b55e-52923a6fe3b2",
   "metadata": {},
   "source": [
    "## USE SAGEMATH TO RUN THIS CODE"
   ]
  },
  {
   "cell_type": "code",
   "execution_count": 1,
   "id": "1842bd9f-71b5-4212-bdb4-0933cdff5a22",
   "metadata": {},
   "outputs": [],
   "source": [
    "class FFT:\n",
    "    def generator(self, n):\n",
    "        return exp(-2*I*pi / (3*n));\n",
    "        #return CyclotomicField(3*n).gen()\n",
    "    \n",
    "    def __init__(self, n):\n",
    "        self.n = n\n",
    "\n",
    "        fac = factor(self.n)\n",
    "\n",
    "        if len(fac) == 2:\n",
    "            if fac[0][0] == 2 and fac[1][0] == 3:\n",
    "                self.Radix2 = fac[0][1]\n",
    "                self.Radix3 = fac[1][1]\n",
    "            else:\n",
    "                raise ValueError(f\"unsupported n\");\n",
    "        elif len(fac) == 1:\n",
    "            if fac[0][0] == 2:\n",
    "                self.Radix2 = fac[0][1]\n",
    "                self.Radix3 = 0\n",
    "            else:\n",
    "                raise ValueError(f\"unsupported n\");\n",
    "\n",
    "        self.level = self.Radix2 + self.Radix3\n",
    "\n",
    "        self.w = self.generator(n);\n",
    "        self.omega = self.w ** self.n;\n",
    "\n",
    "        self._build_tree()\n",
    "        \n",
    "        self.z     = self.w**(self.n // 2)\n",
    "        self.zminusz5inv = 1/(self.z - self.z**5)\n",
    "        self.level1 = 1/self.n\n",
    "        self.level2 = 2/self.n\n",
    "        \n",
    "    def _build_tree(self):\n",
    "\n",
    "        self.tree = zero_matrix(ZZ,self.level+1,self.n);\n",
    "        self.tree[0,0] = 3 * self.n\n",
    "\n",
    "        self.zetas = [self.w**0];\n",
    "        \n",
    "        # Radix-2 with cyclotomic\n",
    "        self.tree[1,0] = self.tree[0,0] // 6\n",
    "        self.tree[1,1] = 5*self.tree[0,0] // 6\n",
    "\n",
    "        x = self.w ** (self.tree[1,0])\n",
    "        self.zetas.append(x)\n",
    "\n",
    "        # Radix-3 part\n",
    "        for ll in range(1, self.Radix3+1):\n",
    "            for ii in range(2*3**(ll-1)):\n",
    "                self.tree[ll+1,3*ii  ] = self.tree[ll,ii] // 3\n",
    "                self.tree[ll+1,3*ii+1] = self.tree[ll+1,3*ii  ] + self.tree[0,0] // 3\n",
    "                self.tree[ll+1,3*ii+2] = self.tree[ll+1,3*ii  ] + 2*self.tree[0,0] // 3\n",
    "\n",
    "                x = self.w ** (self.tree[ll+1,3*ii])\n",
    "                self.zetas.append(x)\n",
    "                x = self.w ** (2*self.tree[ll+1,3*ii])\n",
    "                self.zetas.append(x)\n",
    "\n",
    "        # Radix-2 part\n",
    "        for ll in range(self.Radix3+1, self.level):\n",
    "            for ii in range(2*3**(self.Radix3)*2**(ll-(self.Radix3+1))):\n",
    "                self.tree[ll+1,2*ii  ] = self.tree[ll,ii] // 2\n",
    "                self.tree[ll+1,2*ii+1] = self.tree[ll,ii] // 2 + self.tree[0,0] // 2\n",
    "\n",
    "                x = self.w ** (self.tree[ll+1,2*ii])\n",
    "                self.zetas.append(x)\n",
    "\n",
    "    def get_zetas(self):\n",
    "        return self.zetas\n",
    "\n",
    "    def fft(self, a):\n",
    "        k = 1;\n",
    "        \n",
    "        b = a.copy();\n",
    "\n",
    "        zeta1 = self.zetas[k];\n",
    "        k += 1;\n",
    "\n",
    "        for ii in range(0, self.n // 2):\n",
    "            t1 = zeta1 * b[ii + self.n // 2];\n",
    "\n",
    "            b[ii + self.n // 2] = b[ii] + b[ii + self.n // 2] - t1;\n",
    "            b[ii              ] = b[ii]                       + t1;\n",
    "\n",
    "        step = self.n // 6;\n",
    "        \n",
    "        while step >= 2**(self.Radix2-1):\n",
    "            for start in range(0,self.n,3*step):\n",
    "                zeta1 = self.zetas[k];\n",
    "                zeta2 = self.zetas[k+1];\n",
    "                k += 2;\n",
    "\n",
    "                for ii in range(start,start+step):\n",
    "                    t1 = zeta1 * b[ii+  step];\n",
    "                    t2 = zeta2 * b[ii+2*step];\n",
    "                    t3 = self.omega * (t1 - t2);\n",
    "\n",
    "                    b[ii+2*step] = b[ii] - t1 - t3;\n",
    "                    b[ii+  step] = b[ii] - t2 + t3;\n",
    "                    b[ii       ] = b[ii] + t1 + t2;\n",
    "\n",
    "            step = step // 3;\n",
    "\n",
    "        step = 2^(self.Radix2-2)\n",
    "        while step >= 1:\n",
    "            for start in range(0,self.n,(step << 1)):\n",
    "                zeta1 = self.zetas[k];\n",
    "                k += 1;\n",
    "\n",
    "                for ii in range(start,start+step):\n",
    "                    t1 = zeta1 * b[ii+step];\n",
    "\n",
    "                    b[ii+step] = b[ii] - t1;\n",
    "                    b[ii     ] = b[ii] + t1;\n",
    "\n",
    "            step >>= 1;\n",
    "            \n",
    "        return b;\n",
    "\n",
    "    def invfft(self, a):\n",
    "        k = self.n - 1;\n",
    "        \n",
    "        b = a.copy();\n",
    "\n",
    "        step = 1;\n",
    "        \n",
    "        while step < 2**(self.Radix2-1):\n",
    "            for start in range(0,self.n,(step << 1)):\n",
    "                zeta1 = self.zetas[k];\n",
    "                k -= 1;\n",
    "\n",
    "                for ii in range(start,start+step):\n",
    "                    t1 = b[ii+step];\n",
    "\n",
    "                    b[ii+step] = (t1 - b[ii]) * zeta1;\n",
    "                    b[ii     ] = t1 + b[ii]\n",
    "\n",
    "            step <<= 1;\n",
    "\n",
    "        while step <= self.n // 6:  \n",
    "            for start in range(0,self.n,3*step):\n",
    "                zeta2 = self.zetas[k];\n",
    "                k = k - 1;\n",
    "                zeta1 = self.zetas[k];\n",
    "                k = k - 1;\n",
    "\n",
    "                for ii in range(start,start+step):\n",
    "                    t1 = self.omega * (b[ii+  step] - b[ii]);\n",
    "                    t2 = zeta1      * (b[ii+2*step] - b[ii]      + t1);\n",
    "                    t3 = zeta2      * (b[ii+2*step] - b[ii+step] - t1);\n",
    "\n",
    "                    b[ii       ] = b[ii] + b[ii + step] + b[ii + 2*step];\n",
    "                    b[ii+  step] = t2;\n",
    "                    b[ii+2*step] = t3;\n",
    "                    \n",
    "            step = step*3;\n",
    "\n",
    "        for ii in range(0, self.n // 2):\n",
    "            t1 = b[ii] + b[ii + self.n // 2];\n",
    "            t2 = self.zminusz5inv * (b[ii] - b[ii + self.n // 2]);\n",
    "\n",
    "            b[ii              ] = self.level1 * (t1 - t2)\n",
    "            b[ii + self.n // 2] = self.level2 * t2\n",
    "\n",
    "        return b;\n",
    "\n"
   ]
  },
  {
   "cell_type": "code",
   "execution_count": 25,
   "id": "b48f9630-45c4-437b-8914-2a36edc2e53e",
   "metadata": {},
   "outputs": [],
   "source": [
    "n = 36"
   ]
  },
  {
   "cell_type": "code",
   "execution_count": 26,
   "id": "225f41aa-073d-43d4-b47e-c74949ddd007",
   "metadata": {},
   "outputs": [],
   "source": [
    "fft = FFT(n)"
   ]
  },
  {
   "cell_type": "code",
   "execution_count": 28,
   "id": "86f3976c-37f3-49e9-a769-30962c41f44a",
   "metadata": {},
   "outputs": [
    {
     "data": {
      "text/plain": [
       "[I - 4, -2*I + 8, 5*I + 2, 5*I - 3, 7*I + 7]"
      ]
     },
     "execution_count": 28,
     "metadata": {},
     "output_type": "execute_result"
    }
   ],
   "source": [
    "# a = [1 + 4*I, -2-3*I,  5 + I,  2 + 5*I, -1 + 5*I,  1 + 2*I]\n",
    "a = [ZZ.random_element(-10, 10) + ZZ.random_element(-10, 10) * I for _ in range(n)]\n",
    "a[:5]"
   ]
  },
  {
   "cell_type": "code",
   "execution_count": 30,
   "id": "6ea07768-1913-40b7-b419-6fc3300fe57e",
   "metadata": {},
   "outputs": [],
   "source": [
    "b = fft.fft(a)"
   ]
  },
  {
   "cell_type": "code",
   "execution_count": 36,
   "id": "a2ff8d98-576d-4300-9ac8-15f09f4e03c1",
   "metadata": {},
   "outputs": [
    {
     "name": "stdout",
     "output_type": "stream",
     "text": [
      "-15.560225576235 - 52.795554650809*I\n",
      "-0.83198514711611 + 34.111459286328*I\n",
      "-48.587730720853 + 24.271432803538*I\n",
      "-33.283953462789 + 9.5235283995068*I\n",
      "-25.816848428923 - 17.326376626200*I\n"
     ]
    }
   ],
   "source": [
    "for i in range(min(5, n)):\n",
    "    print(b[i].n(50))"
   ]
  },
  {
   "cell_type": "code",
   "execution_count": 37,
   "id": "a8680b05-2386-46c0-aacb-75b21dcac2ce",
   "metadata": {},
   "outputs": [],
   "source": [
    "c = fft.invfft(b)"
   ]
  },
  {
   "cell_type": "code",
   "execution_count": 38,
   "id": "1208e9c2-a89f-464d-8ebc-3f4ab2d21d42",
   "metadata": {},
   "outputs": [],
   "source": [
    "# c = [x.n(20) for x in c]"
   ]
  },
  {
   "cell_type": "code",
   "execution_count": 40,
   "id": "4d73afd6-1c4a-4f58-bf5e-a35e513bd6e2",
   "metadata": {},
   "outputs": [
    {
     "name": "stdout",
     "output_type": "stream",
     "text": [
      "-4.0000000000000 + 1.0000000000000*I\n",
      "8.0000000000000 - 2.0000000000000*I\n",
      "2.0000000000000 + 5.0000000000000*I\n",
      "-3.0000000000000 + 5.0000000000000*I\n",
      "7.0000000000000 + 7.0000000000000*I\n"
     ]
    }
   ],
   "source": [
    "for i in range(min(5, n)):\n",
    "    print(c[i].n(50))"
   ]
  },
  {
   "cell_type": "code",
   "execution_count": 43,
   "id": "3f0cdc92",
   "metadata": {},
   "outputs": [
    {
     "data": {
      "text/plain": [
       "1.2863e-9"
      ]
     },
     "execution_count": 43,
     "metadata": {},
     "output_type": "execute_result"
    }
   ],
   "source": [
    "errs = 0\n",
    "for i in range(n):\n",
    "    errs += abs(a[i].n(20) - c[i].n(20))**2\n",
    "errs /= n\n",
    "errs"
   ]
  },
  {
   "cell_type": "code",
   "execution_count": 10,
   "id": "6833ba4a-fb50-4f60-9017-44d927844283",
   "metadata": {},
   "outputs": [],
   "source": [
    "n = 12"
   ]
  },
  {
   "cell_type": "code",
   "execution_count": 11,
   "id": "c69deb46-c068-4c45-9698-182ecf37b6ce",
   "metadata": {},
   "outputs": [],
   "source": [
    "fft = FFT(n)"
   ]
  },
  {
   "cell_type": "code",
   "execution_count": 12,
   "id": "af237aa0-0334-4bba-8e62-b8c6c72a03f1",
   "metadata": {},
   "outputs": [],
   "source": [
    "a = [1-1*I, -2-2*I,  5+2*I,  2+2*I, -1-3*I,  1+0*I,  4-1*I, -3-4*I,  1+2*I,\n",
    "  5+0*I,  5-4*I,  2-1*I]"
   ]
  },
  {
   "cell_type": "code",
   "execution_count": 13,
   "id": "6971d4ab-80e6-4c7f-b3a2-24c7c12aa753",
   "metadata": {},
   "outputs": [],
   "source": [
    "b = fft.fft(a)"
   ]
  },
  {
   "cell_type": "code",
   "execution_count": 14,
   "id": "966798ec-7b9e-45f5-ac9d-a5fbc4ef90f8",
   "metadata": {},
   "outputs": [
    {
     "name": "stdout",
     "output_type": "stream",
     "text": [
      "-3.1927747667350385707935270026 - 18.059800857368096504325053802*I\n",
      "7.5084997625864529933622210201 - 4.5744396665045885487586764590*I\n",
      "1.8859607012163976486668818778 - 6.4705661033857159295402334236*I\n",
      "11.739866201100431674178616486 - 23.133265297779972672569458405*I\n",
      "6.0509847769879228369060800288 + 13.496913732441437296312173183*I\n",
      "-11.188689097862798462902611435 + 8.9565485017704088365518928091*I\n",
      "-5.3641328528438424912265732808 - 9.7645507422521037537513163157*I\n",
      "10.530933013620096113166926852 + 9.5832811709911882835802522511*I\n",
      "-9.7953754357861855142017310331 + 5.7263435401927713912957073968*I\n",
      "7.1891488929966082367672615882 - 12.887268714843872474324378949*I\n",
      "7.5769077484939183141681421803 + 5.3479718798026081086580342897*I\n",
      "13.058671056226037221908312718 + 13.778832556935935966871057426*I\n"
     ]
    }
   ],
   "source": [
    "for i in range(n):\n",
    "    print(b[i].n(100))"
   ]
  },
  {
   "cell_type": "code",
   "execution_count": 15,
   "id": "aab855a2-95e1-443e-9623-1a0fb721416a",
   "metadata": {},
   "outputs": [],
   "source": [
    "c = fft.invfft(b)"
   ]
  },
  {
   "cell_type": "code",
   "execution_count": 16,
   "id": "9a8c9246-00b8-4289-a806-d61c8e25e53f",
   "metadata": {},
   "outputs": [],
   "source": [
    "c = [x.n(20) for x in c]"
   ]
  },
  {
   "cell_type": "code",
   "execution_count": 17,
   "id": "68b67c11-d84d-4a86-837e-87a1d20fa322",
   "metadata": {},
   "outputs": [
    {
     "data": {
      "text/plain": [
       "[1.0000 - 1.0000*I,\n",
       " -2.0000 - 2.0000*I,\n",
       " 5.0000 + 2.0000*I,\n",
       " 2.0000 + 2.0000*I,\n",
       " -1.0000 - 3.0000*I,\n",
       " 1.0000 + 3.8147e-6*I,\n",
       " 4.0000 - 1.0000*I,\n",
       " -3.0000 - 4.0000*I,\n",
       " 1.0000 + 2.0000*I,\n",
       " 5.0000 - 8.2591e-6*I,\n",
       " 5.0000 - 4.0000*I,\n",
       " 2.0000 - 1.0000*I]"
      ]
     },
     "execution_count": 17,
     "metadata": {},
     "output_type": "execute_result"
    }
   ],
   "source": [
    "c"
   ]
  },
  {
   "cell_type": "code",
   "execution_count": null,
   "id": "b3697277-b567-419f-a057-2149c9eb06d4",
   "metadata": {},
   "outputs": [],
   "source": []
  },
  {
   "cell_type": "code",
   "execution_count": null,
   "id": "0ee1edbe-b961-4dd2-8b38-03d0a1fdd379",
   "metadata": {},
   "outputs": [],
   "source": []
  }
 ],
 "metadata": {
  "kernelspec": {
   "display_name": "SageMath 9.8",
   "language": "sage",
   "name": "sagemath-9.8"
  },
  "language_info": {
   "codemirror_mode": {
    "name": "ipython",
    "version": 3
   },
   "file_extension": ".py",
   "mimetype": "text/x-python",
   "name": "python",
   "nbconvert_exporter": "python",
   "pygments_lexer": "ipython3",
   "version": "3.11.1"
  }
 },
 "nbformat": 4,
 "nbformat_minor": 5
}
